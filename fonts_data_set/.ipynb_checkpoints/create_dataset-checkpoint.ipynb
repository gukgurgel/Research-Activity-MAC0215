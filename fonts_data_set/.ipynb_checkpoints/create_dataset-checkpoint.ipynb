{
 "cells": [
  {
   "cell_type": "code",
   "execution_count": 18,
   "metadata": {},
   "outputs": [],
   "source": [
    "from PIL import Image, ImageDraw, ImageFont\n",
    "import glob, os\n",
    "import string\n",
    "from matplotlib import image\n",
    "from matplotlib import pyplot"
   ]
  },
  {
   "cell_type": "code",
   "execution_count": 19,
   "metadata": {},
   "outputs": [],
   "source": [
    "alphabet = string.ascii_lowercase + string.ascii_uppercase"
   ]
  },
  {
   "cell_type": "code",
   "execution_count": 26,
   "metadata": {},
   "outputs": [],
   "source": [
    "image = Image.open('background.png')\n",
    "editable_image = image.copy()"
   ]
  },
  {
   "cell_type": "code",
   "execution_count": 32,
   "metadata": {},
   "outputs": [],
   "source": [
    "draw = ImageDraw.Draw(editable_image)"
   ]
  },
  {
   "cell_type": "code",
   "execution_count": 36,
   "metadata": {
    "scrolled": true
   },
   "outputs": [
    {
     "data": {
      "text/plain": [
       "'/home/gustavo/Documents/USP/BCC/2o Semestre/MAC0215/Research-Activity-MAC0215/fonts_data_set'"
      ]
     },
     "execution_count": 36,
     "metadata": {},
     "output_type": "execute_result"
    }
   ],
   "source": [
    "os.getcwd()"
   ]
  },
  {
   "cell_type": "code",
   "execution_count": 37,
   "metadata": {},
   "outputs": [],
   "source": [
    "os.chdir('fonts')"
   ]
  },
  {
   "cell_type": "code",
   "execution_count": 38,
   "metadata": {},
   "outputs": [],
   "source": [
    "def write_alphabet(alphabet, draw, font_name, myFont):\n",
    "    \n",
    "    for letter in alphabet:\n",
    "        editable_image = image.copy()\n",
    "        draw = ImageDraw.Draw(editable_image)\n",
    "        draw.textsize(letter, font=myFont)\n",
    "        draw.text((10, 10), letter, fill=\"black\", font = myFont)\n",
    "        editable_image.save(letter + \"_\" + font_name + \".png\", \"PNG\")"
   ]
  },
  {
   "cell_type": "code",
   "execution_count": 39,
   "metadata": {},
   "outputs": [],
   "source": [
    "fonts = ['centabel', 'cafe_brewery']\n",
    "#using two fonts as example. Full fonts' list can be found in fonts_list.txt"
   ]
  },
  {
   "cell_type": "code",
   "execution_count": 40,
   "metadata": {},
   "outputs": [],
   "source": [
    "for font_family in fonts:\n",
    "    os.chdir(font_family)\n",
    "    for font_file in (glob.glob(\"*.ttf\") + glob.glob(\"*.otf\")):\n",
    "        myFont = ImageFont.truetype(font_file, 40)\n",
    "        font_name = font_file[:-4]\n",
    "        write_alphabet(alphabet, draw, font_name, myFont)\n",
    "    os.chdir('..')"
   ]
  },
  {
   "cell_type": "code",
   "execution_count": 35,
   "metadata": {},
   "outputs": [],
   "source": [
    "os.chdir('..')"
   ]
  }
 ],
 "metadata": {
  "kernelspec": {
   "display_name": "Python 3",
   "language": "python",
   "name": "python3"
  },
  "language_info": {
   "codemirror_mode": {
    "name": "ipython",
    "version": 3
   },
   "file_extension": ".py",
   "mimetype": "text/x-python",
   "name": "python",
   "nbconvert_exporter": "python",
   "pygments_lexer": "ipython3",
   "version": "3.7.7"
  }
 },
 "nbformat": 4,
 "nbformat_minor": 4
}
